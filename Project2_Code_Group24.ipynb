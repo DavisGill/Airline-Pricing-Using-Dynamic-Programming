{
 "cells": [
  {
   "cell_type": "code",
   "execution_count": 1,
   "id": "49732a3e-d551-4595-b560-007ead6c8742",
   "metadata": {},
   "outputs": [],
   "source": [
    "import numpy as np\n",
    "import matplotlib.pyplot as plt\n",
    "import pandas as pd\n",
    "from scipy.stats import binom\n",
    "import warnings\n",
    "warnings.filterwarnings('ignore')"
   ]
  },
  {
   "cell_type": "code",
   "execution_count": 2,
   "id": "ba576588-be41-4a18-86a9-3daddd4a8cec",
   "metadata": {},
   "outputs": [],
   "source": [
    "#coach and first-class(no overbooking in first-class)\n",
    "#if overbook in coach and first-class available then you can put them in first class --> overbooking cost\n",
    "#overbooking policy\n",
    "# If first-class os sold out then coach prob of buying +3% regarding of price\n"
   ]
  },
  {
   "cell_type": "markdown",
   "id": "7048aaa6-d4b1-4b28-9588-752db3f75a5b",
   "metadata": {},
   "source": [
    "# Parameters"
   ]
  },
  {
   "cell_type": "code",
   "execution_count": 3,
   "id": "d32764db-f0dd-43e5-bc30-bac5ca1c5925",
   "metadata": {},
   "outputs": [],
   "source": [
    "ndays = 365\n",
    "T = ndays\n",
    "\n",
    "nseat_coa = 100\n",
    "nseat_1st = 20\n",
    "nseat_over = 5\n",
    "\n",
    "showup_coa = 0.95\n",
    "showup_1st = 0.97\n",
    "\n",
    "bump_1st = 50\n",
    "bump_out = 425\n",
    "\n",
    "price_coa = [300,350]\n",
    "price_1st = [425,500]\n",
    "\n",
    "# 0 - LL price_1stclass price_coach\n",
    "# 1 - HL\n",
    "# 2 - LH\n",
    "# 3 - HH\n",
    "# 4 - L0\n",
    "# 5 - H0\n",
    "# 6 - 0L\n",
    "# 7 - 0H\n",
    "# 8 - 00\n",
    "\n",
    "dema_coa = [0.65,0.3]\n",
    "dema_1st = [0.08,0.04]\n",
    "\n",
    "r_year = 0.17\n",
    "r = 1/(1+r_year/365)\n",
    "\n",
    "extra_d = 0.03\n"
   ]
  },
  {
   "cell_type": "markdown",
   "id": "a08696d9-bfa3-4906-9307-25246b8a0e3a",
   "metadata": {},
   "source": [
    "## State variables"
   ]
  },
  {
   "cell_type": "code",
   "execution_count": 4,
   "id": "d31b505d-65f1-4e75-8b85-445c499143d9",
   "metadata": {},
   "outputs": [],
   "source": [
    "s_coa_values = np.arange(nseat_coa+nseat_over+1) #number of seats sold coa\n",
    "s_1st_values = np.arange(nseat_1st+1) #number of seats sold 1st\n",
    "\n",
    "t_values = np.arange(ndays+1)\n"
   ]
  },
  {
   "cell_type": "markdown",
   "id": "bb90081b-a40d-478c-8366-01ec0a4588db",
   "metadata": {},
   "source": [
    "## Value function and choice variables"
   ]
  },
  {
   "cell_type": "code",
   "execution_count": 5,
   "id": "49877b6c-a192-41ef-8f64-5277d925e646",
   "metadata": {},
   "outputs": [],
   "source": [
    "V = np.zeros((nseat_1st+1,nseat_coa+nseat_over+1,ndays+1))\n",
    "U = np.zeros((nseat_1st+1,nseat_coa+nseat_over+1,ndays+1))"
   ]
  },
  {
   "cell_type": "markdown",
   "id": "ab4b4744-59a8-4de9-bb65-1d08581adc50",
   "metadata": {},
   "source": [
    "## terminal cost"
   ]
  },
  {
   "cell_type": "code",
   "execution_count": 6,
   "id": "24bd2b70-77bd-49ea-854d-978927284692",
   "metadata": {},
   "outputs": [],
   "source": [
    "for s_1st in s_1st_values:\n",
    "    for s_coa in s_coa_values:\n",
    "        exp_cost = 0\n",
    "        for n_1st in range(s_1st+1):\n",
    "            for n_coa in range(s_coa+1):\n",
    "                prob_show_1st = binom.pmf(n_1st, s_1st, showup_1st)\n",
    "                prob_show_coa = binom.pmf(n_coa, s_coa, showup_coa)\n",
    "                n_ava_1st = nseat_1st-n_1st\n",
    "                if n_coa>nseat_coa:\n",
    "                    if (n_coa-nseat_coa)<=n_ava_1st:\n",
    "                        cost = (n_coa-nseat_coa)*bump_1st\n",
    "                    else:\n",
    "                        cost = n_ava_1st*bump_1st+(n_coa-nseat_coa-n_ava_1st)*bump_out\n",
    "                else:\n",
    "                    cost=0\n",
    "\n",
    "                exp_cost += cost*prob_show_1st*prob_show_coa                \n",
    "        V[s_1st,s_coa,T] = -exp_cost\n"
   ]
  },
  {
   "cell_type": "markdown",
   "id": "ac010802-99ef-4ee0-bec4-57092ca797d7",
   "metadata": {},
   "source": [
    "## Bellman"
   ]
  },
  {
   "cell_type": "code",
   "execution_count": 7,
   "id": "9ebfaf17-06ae-433e-aba2-b558fadebfec",
   "metadata": {},
   "outputs": [],
   "source": [
    "for t in reversed(range(ndays)):\n",
    "    for s_1st in s_1st_values:\n",
    "        if s_1st==nseat_1st:\n",
    "            for s_coa in (s_coa_values):\n",
    "                if s_coa==(nseat_coa+nseat_over):\n",
    "                    V[s_1st,s_coa,t] = 0 + r*V[s_1st,s_coa,t+1]\n",
    "                    U[s_1st,s_coa,t] = 8\n",
    "                else:\n",
    "                    v_coa_1st = [price_coa[0]*(dema_coa[0]+extra_d)+r*(V[s_1st,s_coa+1,t+1]*(dema_coa[0]+extra_d)+\n",
    "                                                                       V[s_1st,s_coa,t+1]*(1-dema_coa[0]-extra_d)),\n",
    "                                 \n",
    "                                 price_coa[1]*(dema_coa[1]+extra_d)+r*(V[s_1st,s_coa+1,t+1]*(dema_coa[1]+extra_d)+\n",
    "                                                                       V[s_1st,s_coa,t+1]*(1-dema_coa[1]-extra_d))] \n",
    "                    \n",
    "                    V[s_1st,s_coa,t] = np.max(v_coa_1st)\n",
    "                    U[s_1st,s_coa,t] = 6 + np.argmax(v_coa_1st)                                      \n",
    "        else:\n",
    "            for s_coa in (s_coa_values):\n",
    "                if s_coa==(nseat_coa+nseat_over):\n",
    "                    v_coa_1st = [price_1st[0]*dema_1st[0]+r*(V[s_1st+1,s_coa,t+1]*dema_1st[0]+\n",
    "                                                             V[s_1st,s_coa,t+1]*(1-dema_1st[0])),\n",
    "                                 price_1st[1]*dema_1st[1]+r*(V[s_1st+1,s_coa,t+1]*dema_1st[1]+\n",
    "                                                             V[s_1st,s_coa,t+1]*(1-dema_1st[1]))]\n",
    "\n",
    "                    V[s_1st,s_coa,t] = np.max(v_coa_1st)\n",
    "                    U[s_1st,s_coa,t] = np.argmax(v_coa_1st)+4   \n",
    "                else:  \n",
    "                    \n",
    "                    v_coa_1st = [(price_1st[0]+price_coa[0])*dema_1st[0]*dema_coa[0]+\n",
    "                                 (price_1st[0])*dema_1st[0]*(1-dema_coa[0])+\n",
    "                                 (price_coa[0])*(1-dema_1st[0])*dema_coa[0]+r*(V[s_1st+1,s_coa+1,t+1]*dema_1st[0]*dema_coa[0]+\n",
    "                                                                               V[s_1st+1,s_coa  ,t+1]*dema_1st[0]*(1-dema_coa[0])+\n",
    "                                                                               V[s_1st,s_coa+1,t+1]*(1-dema_1st[0])*dema_coa[0] +\n",
    "                                                                               V[s_1st,s_coa,t+1]*(1-dema_1st[0])*(1-dema_coa[0])),\n",
    "                                 (price_1st[1]+price_coa[0])*dema_1st[1]*dema_coa[0]+\n",
    "                                 (price_1st[1])*dema_1st[1]*(1-dema_coa[0])+\n",
    "                                 (price_coa[0])*(1-dema_1st[1])*dema_coa[0]+r*(V[s_1st+1,s_coa+1,t+1]*dema_1st[1]*dema_coa[0]+\n",
    "                                                                               V[s_1st+1,s_coa  ,t+1]*dema_1st[1]*(1-dema_coa[0])+\n",
    "                                                                               V[s_1st,s_coa+1,t+1]*(1-dema_1st[1])*dema_coa[0] +\n",
    "                                                                               V[s_1st,s_coa,t+1]*(1-dema_1st[1])*(1-dema_coa[0])),\n",
    "                                 (price_1st[0]+price_coa[1])*dema_1st[0]*dema_coa[1]+\n",
    "                                 (price_1st[0])*dema_1st[0]*(1-dema_coa[1])+\n",
    "                                 (price_coa[1])*(1-dema_1st[0])*dema_coa[1]+r*(V[s_1st+1,s_coa+1,t+1]*dema_1st[0]*dema_coa[1]+\n",
    "                                                                               V[s_1st+1,s_coa  ,t+1]*dema_1st[0]*(1-dema_coa[1])+\n",
    "                                                                               V[s_1st,s_coa+1,t+1]*(1-dema_1st[0])*dema_coa[1] +\n",
    "                                                                               V[s_1st,s_coa,t+1]*(1-dema_1st[0])*(1-dema_coa[1])),\n",
    "                                 (price_1st[1]+price_coa[1])*dema_1st[1]*dema_coa[1]+\n",
    "                                 (price_1st[1])*dema_1st[1]*(1-dema_coa[1])+\n",
    "                                 (price_coa[1])*(1-dema_1st[1])*dema_coa[1]+r*(V[s_1st+1,s_coa+1,t+1]*dema_1st[1]*dema_coa[1]+\n",
    "                                                                               V[s_1st+1,s_coa  ,t+1]*dema_1st[1]*(1-dema_coa[1])+\n",
    "                                                                               V[s_1st,s_coa+1,t+1]*(1-dema_1st[1])*dema_coa[1] +\n",
    "                                                                               V[s_1st,s_coa,t+1]*(1-dema_1st[1])*(1-dema_coa[1]))\n",
    "                                ]                    \n",
    "                \n",
    "                    V[s_1st,s_coa,t] = np.max(v_coa_1st)\n",
    "                    U[s_1st,s_coa,t] = np.argmax(v_coa_1st)  \n",
    "\n"
   ]
  },
  {
   "cell_type": "markdown",
   "id": "e8f9cd6a-7133-4698-aa91-9febb0f3d74a",
   "metadata": {},
   "source": [
    "## Results"
   ]
  },
  {
   "cell_type": "code",
   "execution_count": 8,
   "id": "c365dd94-629f-4511-ad94-d07d83a48d3b",
   "metadata": {},
   "outputs": [],
   "source": [
    "V_reshaped = V.reshape(V.shape[0] * V.shape[1], V.shape[2])  \n",
    "V_df = pd.DataFrame(V_reshaped, index=pd.MultiIndex.from_product([s_1st_values, s_coa_values], names=['s_1st', 's_coa']), columns=t_values)\n",
    "V_df.to_csv('question1_V.csv')\n",
    "\n",
    "U_reshaped = U.reshape(U.shape[0] * U.shape[1], U.shape[2])  \n",
    "U_df = pd.DataFrame(U_reshaped, index=pd.MultiIndex.from_product([s_1st_values, s_coa_values], names=['s_1st', 's_coa']), columns=t_values)\n",
    "U_df.to_csv('question1_U.csv')\n"
   ]
  },
  {
   "cell_type": "code",
   "execution_count": 9,
   "id": "263c0142-16db-459d-a83f-35c9ab959737",
   "metadata": {},
   "outputs": [
    {
     "data": {
      "text/plain": [
       "41886.15862419569"
      ]
     },
     "execution_count": 9,
     "metadata": {},
     "output_type": "execute_result"
    }
   ],
   "source": [
    "V[0,0,0]"
   ]
  },
  {
   "cell_type": "code",
   "execution_count": 10,
   "id": "8d6c7dd6",
   "metadata": {},
   "outputs": [
    {
     "data": {
      "image/png": "[encoded data removed]",
      "text/plain": [
       "<Figure size 2000x700 with 10 Axes>"
      ]
     },
     "metadata": {},
     "output_type": "display_data"
    }
   ],
   "source": [
    "import matplotlib.pyplot as plt\n",
    "import seaborn as sns\n",
    "\n",
    "\n",
    "fig, axes = plt.subplots(1, 5, figsize=(20, 7), sharey=True)\n",
    "\n",
    "time_slices = [360, 270, 180, 90, 5]  \n",
    "\n",
    "for i, t in enumerate(time_slices):\n",
    "    sns.heatmap(U[:, :, 366 - t], ax=axes[i], cmap='viridis')\n",
    "    axes[i].set_title(f'Days to Departure: {t}')\n",
    "    axes[i].set_xlabel('Coach Seats Sold')\n",
    "    if i == 0:  \n",
    "        axes[i].set_ylabel('First-Class Seats Sold')\n",
    "\n",
    "plt.suptitle('Optimal Pricing Decision at Different Time Slices')\n",
    "plt.tight_layout()\n",
    "plt.show()\n",
    "\n"
   ]
  },
  {
   "cell_type": "markdown",
   "id": "a1c4f3b0-0be3-43e5-b3dd-b25404aef297",
   "metadata": {},
   "source": [
    "# Second Part"
   ]
  },
  {
   "cell_type": "code",
   "execution_count": 11,
   "id": "abb5c82a-8631-4176-a9fc-17e177ee539f",
   "metadata": {},
   "outputs": [],
   "source": [
    "ndays = 365\n",
    "T = ndays\n",
    "\n",
    "nseat_coa = 100\n",
    "nseat_1st = 20\n",
    "#nseat_over = 5\n",
    "\n",
    "showup_coa = 0.95\n",
    "showup_1st = 0.97\n",
    "\n",
    "bump_1st = 50\n",
    "bump_out = 425\n",
    "\n",
    "price_coa = [300,350]\n",
    "price_1st = [425,500]\n",
    "\n",
    "# 0 - LL\n",
    "# 1 - HL\n",
    "# 2 - LH\n",
    "# 3 - HH\n",
    "# 4 - L0\n",
    "# 5 - H0\n",
    "# 6 - 0L\n",
    "# 7 - 0H\n",
    "# 8 - 00\n",
    "\n",
    "dema_coa = [0.65,0.3]\n",
    "dema_1st = [0.08,0.04]\n",
    "\n",
    "r_year = 0.17\n",
    "r = 1/(1+r_year/365)\n",
    "\n",
    "extra_d = 0.03\n",
    "\n"
   ]
  },
  {
   "cell_type": "code",
   "execution_count": 12,
   "id": "439fd9e9-00ff-47d5-b3cc-f9e939cc28ec",
   "metadata": {},
   "outputs": [],
   "source": [
    "def run_get_profit(nseat_over):  \n",
    "    #state variables\n",
    "    s_coa_values = np.arange(nseat_coa+nseat_over+1) #number of seats sold coa\n",
    "    s_1st_values = np.arange(nseat_1st+1) #number of seats sold 1st\n",
    "    t_values = np.arange(ndays+1)\n",
    "    \n",
    "    #join value function\n",
    "    V = np.zeros((nseat_1st+1,nseat_coa+nseat_over+1,ndays+1))\n",
    "    U = np.empty((nseat_1st+1,nseat_coa+nseat_over+1,ndays+1))\n",
    "    \n",
    "    #terminal\n",
    "    for s_1st in s_1st_values:\n",
    "        for s_coa in s_coa_values:\n",
    "            exp_cost = 0\n",
    "            for n_1st in range(s_1st+1):\n",
    "                for n_coa in range(s_coa+1):\n",
    "                    prob_show_1st = binom.pmf(n_1st, s_1st, showup_1st)\n",
    "                    prob_show_coa = binom.pmf(n_coa, s_coa, showup_coa)\n",
    "                    n_ava_1st = nseat_1st-n_1st\n",
    "                    if n_coa>nseat_coa:\n",
    "                        if (n_coa-nseat_coa)<=n_ava_1st:\n",
    "                            cost = (n_coa-nseat_coa)*bump_1st\n",
    "                        else:\n",
    "                            cost = n_ava_1st*bump_1st+(n_coa-nseat_coa-n_ava_1st)*bump_out\n",
    "                    else:\n",
    "                        cost=0\n",
    "    \n",
    "                    exp_cost += cost*prob_show_1st*prob_show_coa                \n",
    "            V[s_1st,s_coa,T] = -exp_cost\n",
    "\n",
    "    # Belman\n",
    "    for t in reversed(range(ndays)):\n",
    "        for s_1st in s_1st_values:\n",
    "            if s_1st==nseat_1st:\n",
    "                for s_coa in (s_coa_values):\n",
    "                    if s_coa==(nseat_coa+nseat_over):\n",
    "                        V[s_1st,s_coa,t] = 0 + r*V[s_1st,s_coa,t+1]\n",
    "                        U[s_1st,s_coa,t] = 8\n",
    "                    else:\n",
    "                        v_coa_1st = [price_coa[0]*(dema_coa[0]+extra_d)+r*(V[s_1st,s_coa+1,t+1]*(dema_coa[0]+extra_d)+\n",
    "                                                                           V[s_1st,s_coa,t+1]*(1-dema_coa[0]-extra_d)),\n",
    "                                     \n",
    "                                     price_coa[1]*(dema_coa[1]+extra_d)+r*(V[s_1st,s_coa+1,t+1]*(dema_coa[1]+extra_d)+\n",
    "                                                                           V[s_1st,s_coa,t+1]*(1-dema_coa[1]-extra_d))] \n",
    "                        \n",
    "                        V[s_1st,s_coa,t] = np.max(v_coa_1st)\n",
    "                        U[s_1st,s_coa,t] = 6 + np.argmax(v_coa_1st)                                      \n",
    "            else:\n",
    "                for s_coa in (s_coa_values):\n",
    "                    if s_coa==(nseat_coa+nseat_over):\n",
    "                        v_coa_1st = [price_1st[0]*dema_1st[0]+r*(V[s_1st+1,s_coa,t+1]*dema_1st[0]+\n",
    "                                                                 V[s_1st,s_coa,t+1]*(1-dema_1st[0])),\n",
    "                                     price_1st[1]*dema_1st[1]+r*(V[s_1st+1,s_coa,t+1]*dema_1st[1]+\n",
    "                                                                 V[s_1st,s_coa,t+1]*(1-dema_1st[1]))]\n",
    "    \n",
    "                        V[s_1st,s_coa,t] = np.max(v_coa_1st)\n",
    "                        U[s_1st,s_coa,t] = np.argmax(v_coa_1st)+4  \n",
    "                    else:  \n",
    "                        \n",
    "                        v_coa_1st = [(price_1st[0]+price_coa[0])*dema_1st[0]*dema_coa[0]+\n",
    "                                     (price_1st[0])*dema_1st[0]*(1-dema_coa[0])+\n",
    "                                     (price_coa[0])*(1-dema_1st[0])*dema_coa[0]+r*(V[s_1st+1,s_coa+1,t+1]*dema_1st[0]*dema_coa[0]+\n",
    "                                                                                   V[s_1st+1,s_coa  ,t+1]*dema_1st[0]*(1-dema_coa[0])+\n",
    "                                                                                   V[s_1st,s_coa+1,t+1]*(1-dema_1st[0])*dema_coa[0] +\n",
    "                                                                                   V[s_1st,s_coa,t+1]*(1-dema_1st[0])*(1-dema_coa[0])),\n",
    "                                     (price_1st[1]+price_coa[0])*dema_1st[1]*dema_coa[0]+\n",
    "                                     (price_1st[1])*dema_1st[1]*(1-dema_coa[0])+\n",
    "                                     (price_coa[0])*(1-dema_1st[1])*dema_coa[0]+r*(V[s_1st+1,s_coa+1,t+1]*dema_1st[1]*dema_coa[0]+\n",
    "                                                                                   V[s_1st+1,s_coa  ,t+1]*dema_1st[1]*(1-dema_coa[0])+\n",
    "                                                                                   V[s_1st,s_coa+1,t+1]*(1-dema_1st[1])*dema_coa[0] +\n",
    "                                                                                   V[s_1st,s_coa,t+1]*(1-dema_1st[1])*(1-dema_coa[0])),\n",
    "                                     (price_1st[0]+price_coa[1])*dema_1st[0]*dema_coa[1]+\n",
    "                                     (price_1st[0])*dema_1st[0]*(1-dema_coa[1])+\n",
    "                                     (price_coa[1])*(1-dema_1st[0])*dema_coa[1]+r*(V[s_1st+1,s_coa+1,t+1]*dema_1st[0]*dema_coa[1]+\n",
    "                                                                                   V[s_1st+1,s_coa  ,t+1]*dema_1st[0]*(1-dema_coa[1])+\n",
    "                                                                                   V[s_1st,s_coa+1,t+1]*(1-dema_1st[0])*dema_coa[1] +\n",
    "                                                                                   V[s_1st,s_coa,t+1]*(1-dema_1st[0])*(1-dema_coa[1])),\n",
    "                                     (price_1st[1]+price_coa[1])*dema_1st[1]*dema_coa[1]+\n",
    "                                     (price_1st[1])*dema_1st[1]*(1-dema_coa[1])+\n",
    "                                     (price_coa[1])*(1-dema_1st[1])*dema_coa[1]+r*(V[s_1st+1,s_coa+1,t+1]*dema_1st[1]*dema_coa[1]+\n",
    "                                                                                   V[s_1st+1,s_coa  ,t+1]*dema_1st[1]*(1-dema_coa[1])+\n",
    "                                                                                   V[s_1st,s_coa+1,t+1]*(1-dema_1st[1])*dema_coa[1] +\n",
    "                                                                                   V[s_1st,s_coa,t+1]*(1-dema_1st[1])*(1-dema_coa[1]))\n",
    "                                    ]                    \n",
    "                    \n",
    "                        V[s_1st,s_coa,t] = np.max(v_coa_1st)\n",
    "                        U[s_1st,s_coa,t] = np.argmax(v_coa_1st)  \n",
    "\n",
    "    return V,U\n",
    "                    "
   ]
  },
  {
   "cell_type": "code",
   "execution_count": 13,
   "id": "e95ac64f-f9b8-46b0-9eb1-cb978590aa9d",
   "metadata": {},
   "outputs": [
    {
     "data": {
      "text/plain": [
       "[41886.15862419569,\n",
       " 42011.221060444346,\n",
       " 42085.5361558286,\n",
       " 42122.167268762896,\n",
       " 42134.62483034151,\n",
       " 42132.90038235096,\n",
       " 42123.665935580575,\n",
       " 42111.02967047848,\n",
       " 42097.41950987721,\n",
       " 42084.11157035292,\n",
       " 42071.74230930781]"
      ]
     },
     "execution_count": 13,
     "metadata": {},
     "output_type": "execute_result"
    }
   ],
   "source": [
    "profit = []\n",
    "for i in range(5,16):\n",
    "    V,U = run_get_profit(i)\n",
    "    profit+= [V[0,0,0]]\n",
    "\n",
    "profit"
   ]
  },
  {
   "cell_type": "code",
   "execution_count": 14,
   "id": "b66b2819-122a-4c92-bc7f-7bf23a516ff4",
   "metadata": {},
   "outputs": [],
   "source": [
    "pd.DataFrame(profit,index=np.arange(5,16),columns=['expected_profit']).to_csv('Question2_profit.csv')"
   ]
  },
  {
   "cell_type": "code",
   "execution_count": 15,
   "id": "73e6a8ea-aabe-49ab-8f3e-a0760075eb04",
   "metadata": {},
   "outputs": [
    {
     "data": {
      "text/plain": [
       "<matplotlib.lines.Line2D at 0x15edb1d80>"
      ]
     },
     "execution_count": 15,
     "metadata": {},
     "output_type": "execute_result"
    },
    {
     "data": {
      "image/png": "[encoded data removed]",
      "text/plain": [
       "<Figure size 640x480 with 1 Axes>"
      ]
     },
     "metadata": {},
     "output_type": "display_data"
    }
   ],
   "source": [
    "plt.plot(np.arange(5,16),profit)\n",
    "plt.axvline(x=np.arange(5,16)[np.argmax(profit)], color='green', linestyle='--', label='Vertical Line at Highest Point')\n"
   ]
  },
  {
   "cell_type": "markdown",
   "id": "4406e1c6-16e8-49d1-9709-0f574962ae05",
   "metadata": {},
   "source": [
    "# Third Part"
   ]
  },
  {
   "cell_type": "code",
   "execution_count": 16,
   "id": "1cc3c5ee-1b0f-47d8-8167-2a1f02746ece",
   "metadata": {},
   "outputs": [],
   "source": [
    "ndays = 365\n",
    "T = ndays\n",
    "\n",
    "nseat_coa = 100\n",
    "nseat_1st = 20\n",
    "nseat_over = 20\n",
    "\n",
    "showup_coa = 0.95\n",
    "showup_1st = 0.97\n",
    "\n",
    "bump_1st = 50\n",
    "bump_out = 425\n",
    "\n",
    "price_coa = [300,350]\n",
    "price_1st = [425,500]\n",
    "\n",
    "# 0 - LL\n",
    "# 1 - HL\n",
    "# 2 - LH\n",
    "# 3 - HH\n",
    "# 4 - L0\n",
    "# 5 - H0\n",
    "# 6 - 0L\n",
    "# 7 - 0H\n",
    "# 8 - 00\n",
    "\n",
    "dema_coa = [0.65,0.3]\n",
    "dema_1st = [0.08,0.04]\n",
    "\n",
    "r_year = 0.17\n",
    "r = 1/(1+r_year/365)\n",
    "\n",
    "extra_d = 0.03\n",
    "\n"
   ]
  },
  {
   "cell_type": "code",
   "execution_count": 17,
   "id": "583b78e6-d82f-4166-9cfb-13719ccd46e7",
   "metadata": {},
   "outputs": [],
   "source": [
    "#state variables\n",
    "s_coa_values = np.arange(nseat_coa+nseat_over+1) #number of seats sold coa\n",
    "s_1st_values = np.arange(nseat_1st+1) #number of seats sold 1st\n",
    "t_values = np.arange(ndays+1)"
   ]
  },
  {
   "cell_type": "code",
   "execution_count": 18,
   "id": "36325027-4126-4f74-bcb2-ec48f75927bd",
   "metadata": {},
   "outputs": [],
   "source": [
    "#value function\n",
    "V = np.zeros((nseat_1st+1,nseat_coa+nseat_over+1,ndays+1))\n",
    "U = np.empty((nseat_1st+1,nseat_coa+nseat_over+1,ndays+1))"
   ]
  },
  {
   "cell_type": "code",
   "execution_count": 19,
   "id": "beb7b7b6-1df9-4a65-876f-97fbad87bae5",
   "metadata": {},
   "outputs": [],
   "source": [
    "#terminal\n",
    "for s_1st in s_1st_values:\n",
    "    for s_coa in s_coa_values:\n",
    "        exp_cost = 0\n",
    "        for n_1st in range(s_1st+1):\n",
    "            for n_coa in range(s_coa+1):\n",
    "                prob_show_1st = binom.pmf(n_1st, s_1st, showup_1st)\n",
    "                prob_show_coa = binom.pmf(n_coa, s_coa, showup_coa)\n",
    "                n_ava_1st = nseat_1st-n_1st\n",
    "                if n_coa>nseat_coa:\n",
    "                    if (n_coa-nseat_coa)<=n_ava_1st:\n",
    "                        cost = (n_coa-nseat_coa)*bump_1st\n",
    "                    else:\n",
    "                        cost = n_ava_1st*bump_1st+(n_coa-nseat_coa-n_ava_1st)*bump_out\n",
    "                else:\n",
    "                    cost=0\n",
    "\n",
    "                exp_cost += cost*prob_show_1st*prob_show_coa                \n",
    "        V[s_1st,s_coa,T] = -exp_cost"
   ]
  },
  {
   "cell_type": "code",
   "execution_count": 20,
   "id": "9b75874f-6e58-414d-a973-735ab2ee1df6",
   "metadata": {},
   "outputs": [],
   "source": [
    "# Belman\n",
    "for t in reversed(range(ndays)):\n",
    "    for s_1st in s_1st_values:\n",
    "        if s_1st==nseat_1st:\n",
    "            for s_coa in (s_coa_values):\n",
    "                if s_coa==(nseat_coa+nseat_over):\n",
    "                    V[s_1st,s_coa,t] = 0 + r*V[s_1st,s_coa,t+1]\n",
    "                    U[s_1st,s_coa,t] = 8\n",
    "                else:\n",
    "                    v_coa_1st = [price_coa[0]*(dema_coa[0]+extra_d)+r*(V[s_1st,s_coa+1,t+1]*(dema_coa[0]+extra_d)+\n",
    "                                                                       V[s_1st,s_coa,t+1]*(1-dema_coa[0]-extra_d)),\n",
    "                                 \n",
    "                                 price_coa[1]*(dema_coa[1]+extra_d)+r*(V[s_1st,s_coa+1,t+1]*(dema_coa[1]+extra_d)+\n",
    "                                                                       V[s_1st,s_coa,t+1]*(1-dema_coa[1]-extra_d)),\n",
    "                                \n",
    "                                 0 + r*V[s_1st,s_coa,t+1]\n",
    "                                ] \n",
    "                    \n",
    "                    V[s_1st,s_coa,t] = np.max(v_coa_1st)\n",
    "                    U[s_1st,s_coa,t] = 6 + np.argmax(v_coa_1st)                                      \n",
    "        else:\n",
    "            for s_coa in (s_coa_values):\n",
    "                if s_coa==(nseat_coa+nseat_over):\n",
    "                    v_coa_1st = [price_1st[0]*dema_1st[0]+r*(V[s_1st+1,s_coa,t+1]*dema_1st[0]+\n",
    "                                                             V[s_1st,s_coa,t+1]*(1-dema_1st[0])),\n",
    "                                 price_1st[1]*dema_1st[1]+r*(V[s_1st+1,s_coa,t+1]*dema_1st[1]+\n",
    "                                                             V[s_1st,s_coa,t+1]*(1-dema_1st[1]))\n",
    "                                ]\n",
    "\n",
    "                    V[s_1st,s_coa,t] = np.max(v_coa_1st)\n",
    "                    U[s_1st,s_coa,t] = np.argmax(v_coa_1st)+4   \n",
    "                else:  \n",
    "                    \n",
    "                    v_coa_1st = [(price_1st[0]+price_coa[0])*dema_1st[0]*dema_coa[0]+\n",
    "                                 (price_1st[0])*dema_1st[0]*(1-dema_coa[0])+\n",
    "                                 (price_coa[0])*(1-dema_1st[0])*dema_coa[0]+r*(V[s_1st+1,s_coa+1,t+1]*dema_1st[0]*dema_coa[0]+\n",
    "                                                                               V[s_1st+1,s_coa  ,t+1]*dema_1st[0]*(1-dema_coa[0])+\n",
    "                                                                               V[s_1st,s_coa+1,t+1]*(1-dema_1st[0])*dema_coa[0] +\n",
    "                                                                               V[s_1st,s_coa,t+1]*(1-dema_1st[0])*(1-dema_coa[0])),\n",
    "                                 (price_1st[1]+price_coa[0])*dema_1st[1]*dema_coa[0]+\n",
    "                                 (price_1st[1])*dema_1st[1]*(1-dema_coa[0])+\n",
    "                                 (price_coa[0])*(1-dema_1st[1])*dema_coa[0]+r*(V[s_1st+1,s_coa+1,t+1]*dema_1st[1]*dema_coa[0]+\n",
    "                                                                               V[s_1st+1,s_coa  ,t+1]*dema_1st[1]*(1-dema_coa[0])+\n",
    "                                                                               V[s_1st,s_coa+1,t+1]*(1-dema_1st[1])*dema_coa[0] +\n",
    "                                                                               V[s_1st,s_coa,t+1]*(1-dema_1st[1])*(1-dema_coa[0])),\n",
    "                                 (price_1st[0]+price_coa[1])*dema_1st[0]*dema_coa[1]+\n",
    "                                 (price_1st[0])*dema_1st[0]*(1-dema_coa[1])+\n",
    "                                 (price_coa[1])*(1-dema_1st[0])*dema_coa[1]+r*(V[s_1st+1,s_coa+1,t+1]*dema_1st[0]*dema_coa[1]+\n",
    "                                                                               V[s_1st+1,s_coa  ,t+1]*dema_1st[0]*(1-dema_coa[1])+\n",
    "                                                                               V[s_1st,s_coa+1,t+1]*(1-dema_1st[0])*dema_coa[1] +\n",
    "                                                                               V[s_1st,s_coa,t+1]*(1-dema_1st[0])*(1-dema_coa[1])),\n",
    "                                 (price_1st[1]+price_coa[1])*dema_1st[1]*dema_coa[1]+\n",
    "                                 (price_1st[1])*dema_1st[1]*(1-dema_coa[1])+\n",
    "                                 (price_coa[1])*(1-dema_1st[1])*dema_coa[1]+r*(V[s_1st+1,s_coa+1,t+1]*dema_1st[1]*dema_coa[1]+\n",
    "                                                                               V[s_1st+1,s_coa  ,t+1]*dema_1st[1]*(1-dema_coa[1])+\n",
    "                                                                               V[s_1st,s_coa+1,t+1]*(1-dema_1st[1])*dema_coa[1] +\n",
    "                                                                               V[s_1st,s_coa,t+1]*(1-dema_1st[1])*(1-dema_coa[1])),\n",
    "\n",
    "                                 price_1st[0]*dema_1st[0]+r*(V[s_1st+1,s_coa,t+1]*dema_1st[0]+\n",
    "                                                             V[s_1st,s_coa,t+1]*(1-dema_1st[0])),\n",
    "                                 \n",
    "                                 price_1st[1]*dema_1st[1]+r*(V[s_1st+1,s_coa,t+1]*dema_1st[1]+\n",
    "                                                             V[s_1st,s_coa,t+1]*(1-dema_1st[1]))\n",
    "                                ]                    \n",
    "\n",
    "                    V[s_1st,s_coa,t] = np.max(v_coa_1st)\n",
    "                    U[s_1st,s_coa,t] = np.argmax(v_coa_1st)  \n",
    "\n"
   ]
  },
  {
   "cell_type": "code",
   "execution_count": 21,
   "id": "c31f055d-9bae-40bc-8d58-3ee98660acbf",
   "metadata": {},
   "outputs": [],
   "source": [
    "with open('Question3_V_2ndPolicy.npy', 'wb') as f:\n",
    "    np.save(f, V)\n",
    "\n",
    "with open('Question3_U_2ndPolicy.npy', 'wb') as f:\n",
    "    np.save(f, U)\n",
    "    "
   ]
  },
  {
   "cell_type": "code",
   "execution_count": 22,
   "id": "fd11c219-a546-4603-9ab2-bcf245e37872",
   "metadata": {},
   "outputs": [
    {
     "data": {
      "text/plain": [
       "42139.89276231962"
      ]
     },
     "execution_count": 22,
     "metadata": {},
     "output_type": "execute_result"
    }
   ],
   "source": [
    "V[0,0,0]"
   ]
  },
  {
   "cell_type": "code",
   "execution_count": 23,
   "id": "e8979a71-9ac8-4a7d-add3-22f770fa72ea",
   "metadata": {},
   "outputs": [
    {
     "data": {
      "text/plain": [
       "42028.73703811088"
      ]
     },
     "execution_count": 23,
     "metadata": {},
     "output_type": "execute_result"
    }
   ],
   "source": [
    "V_1stpol, U_1stpol = run_get_profit(20)\n",
    "V_1stpol[0,0,0]"
   ]
  },
  {
   "cell_type": "code",
   "execution_count": 24,
   "id": "d056a4e1-c850-495d-b25d-7411d8f70a17",
   "metadata": {},
   "outputs": [
    {
     "data": {
      "text/plain": [
       "42134.62483034151"
      ]
     },
     "execution_count": 24,
     "metadata": {},
     "output_type": "execute_result"
    }
   ],
   "source": [
    "V_1stpol_9, U_1stpol_9 = run_get_profit(9)\n",
    "V_1stpol_9[0,0,0]"
   ]
  },
  {
   "cell_type": "code",
   "execution_count": 25,
   "id": "ab03fc63-0a6e-4068-8f0f-433822116343",
   "metadata": {},
   "outputs": [],
   "source": [
    "with open('Question3_V_1stPolicy.npy', 'wb') as f:\n",
    "    np.save(f, V_1stpol)\n",
    "\n",
    "with open('Question3_U_1stPolicy.npy', 'wb') as f:\n",
    "    np.save(f, U_1stpol)"
   ]
  },
  {
   "cell_type": "code",
   "execution_count": 26,
   "id": "31bef6f9-0f44-4451-833d-0eb58cf634d6",
   "metadata": {},
   "outputs": [],
   "source": [
    "with open('Question3_V_1stPolicy9.npy', 'wb') as f:\n",
    "    np.save(f, V_1stpol_9)\n",
    "\n",
    "with open('Question3_U_1stPolicy9.npy', 'wb') as f:\n",
    "    np.save(f, U_1stpol_9)"
   ]
  },
  {
   "cell_type": "markdown",
   "id": "9298d297-9512-43d0-bced-7168968834d9",
   "metadata": {},
   "source": [
    "# Fourth part"
   ]
  },
  {
   "cell_type": "code",
   "execution_count": 27,
   "id": "5086dd9b-b2a8-4d30-bf11-0a914db5bd4c",
   "metadata": {},
   "outputs": [],
   "source": [
    "import random"
   ]
  },
  {
   "cell_type": "code",
   "execution_count": 28,
   "id": "b69647f1-c239-4836-829c-243f220f7cfe",
   "metadata": {},
   "outputs": [],
   "source": [
    "ndays = 365\n",
    "T = ndays\n",
    "\n",
    "nseat_coa = 100\n",
    "nseat_1st = 20\n",
    "\n",
    "showup_coa = 0.95\n",
    "showup_1st = 0.97\n",
    "\n",
    "bump_1st = 50\n",
    "bump_out = 425\n",
    "\n",
    "price_coa = [300,350,0]\n",
    "price_1st = [425,500,0]\n",
    "\n",
    "dema_coa = [0.65,0.3,0]\n",
    "dema_1st = [0.08,0.04,0]\n",
    "\n",
    "# 0 - LL\n",
    "# 1 - HL\n",
    "# 2 - LH\n",
    "# 3 - HH\n",
    "# 4 - L0\n",
    "# 5 - H0\n",
    "# 6 - 0L\n",
    "# 7 - 0H\n",
    "# 8 - 00\n",
    "\n",
    "price_probdem_1st = {0:0,1:1,2:0,3:1,4:0,5:1,6:2,7:2,8:2}\n",
    "price_probdem_coa = {0:0,1:0,2:1,3:1,4:2,5:2,6:0,7:1,8:2}\n",
    "\n",
    "r_year = 0.17\n",
    "r = 1/(1+r_year/365)\n",
    "\n",
    "extra_d = 0.03"
   ]
  },
  {
   "cell_type": "code",
   "execution_count": 29,
   "id": "8642db11-eac6-439e-a04a-9198a1c07c58",
   "metadata": {},
   "outputs": [],
   "source": [
    "with open('Question3_V_2ndPolicy.npy', 'rb') as f:\n",
    "    V_2ndPolicy = np.load(f)\n",
    "\n",
    "with open('Question3_U_2ndPolicy.npy', 'rb') as f:\n",
    "    U_2ndPolicy = np.load(f)\n",
    "\n",
    "with open('Question3_V_1stPolicy.npy', 'rb') as f:\n",
    "    V_1stPolicy = np.load(f)\n",
    "\n",
    "with open('Question3_U_1stPolicy.npy', 'rb') as f:\n",
    "    U_1stPolicy = np.load(f)\n",
    "\n",
    "with open('Question3_V_1stPolicy9.npy', 'rb') as f:\n",
    "    V_1stPolicy9 = np.load(f)\n",
    "\n",
    "with open('Question3_U_1stPolicy9.npy', 'rb') as f:\n",
    "    U_1stPolicy9 = np.load(f)\n",
    "    "
   ]
  },
  {
   "cell_type": "code",
   "execution_count": 30,
   "id": "789c2a07-d404-48cd-9b25-36bc5f30a305",
   "metadata": {},
   "outputs": [
    {
     "data": {
      "text/plain": [
       "2.0"
      ]
     },
     "execution_count": 30,
     "metadata": {},
     "output_type": "execute_result"
    }
   ],
   "source": [
    "U_1stPolicy[0,0,0]"
   ]
  },
  {
   "cell_type": "code",
   "execution_count": 31,
   "id": "c9234d8f-5df5-48ba-a91c-b8aab52d4e10",
   "metadata": {},
   "outputs": [
    {
     "data": {
      "text/plain": [
       "2.0"
      ]
     },
     "execution_count": 31,
     "metadata": {},
     "output_type": "execute_result"
    }
   ],
   "source": [
    "U_2ndPolicy[0,0,0]"
   ]
  },
  {
   "cell_type": "code",
   "execution_count": 32,
   "id": "3c2023e6-c1d8-4a35-b8e0-9fd7eb2b0536",
   "metadata": {},
   "outputs": [
    {
     "data": {
      "text/plain": [
       "2.0"
      ]
     },
     "execution_count": 32,
     "metadata": {},
     "output_type": "execute_result"
    }
   ],
   "source": [
    "U_1stPolicy9[0,0,0]"
   ]
  },
  {
   "cell_type": "code",
   "execution_count": 33,
   "id": "32b59eab-3170-4058-aee6-af01f3d77093",
   "metadata": {},
   "outputs": [],
   "source": [
    "def generate_model_overbook(U):\n",
    "    s_coa = 0\n",
    "    s_1st = 0\n",
    "    total_rev = 0\n",
    "    rev_ts = []\n",
    "    prices_ts = []\n",
    "    kick_off = 0\n",
    "    overbook_cost = 0\n",
    "    overbook_level = 0\n",
    "    \n",
    "    for t in range(ndays):\n",
    "        decision = U[s_1st,s_coa,t]\n",
    "        index_1st = price_probdem_1st[decision]\n",
    "        index_coa = price_probdem_coa[decision]\n",
    "        price_coa_t = price_coa[index_coa]\n",
    "        price_1st_t = price_1st[index_1st]\n",
    "        prob_coa_t = dema_coa[index_coa]\n",
    "        prob_1st_t = dema_1st[index_1st]\n",
    "        \n",
    "        if (s_1st==nseat_1st)|(price_1st_t==0):\n",
    "            if (s_coa==(nseat_coa+nseat_over)) | (price_coa_t==0):\n",
    "                prices_ts += [[0,0]]\n",
    "                rev_ts += [0]               \n",
    "            else:\n",
    "                n_ticket_coa = (np.random.random(1)<(prob_coa_t+extra_d))[0]*1\n",
    "                s_coa+=n_ticket_coa\n",
    "                prices_ts += [[0,price_coa_t]]\n",
    "                rev_t = (r**(t))*(n_ticket_coa*price_coa_t)\n",
    "                rev_ts += [rev_t]\n",
    "                total_rev+=rev_t\n",
    "        else:\n",
    "            if (s_coa==(nseat_coa+nseat_over))|(price_coa_t==0):\n",
    "                n_ticket_1st = (np.random.random(1)<prob_1st_t)[0]*1\n",
    "                s_1st += n_ticket_1st\n",
    "                prices_ts += [[price_1st_t,0]]\n",
    "                rev_t = (r**(t))*(n_ticket_1st*price_1st_t)\n",
    "                rev_ts += [rev_t]\n",
    "                total_rev += rev_t                \n",
    "            else:\n",
    "                n_ticket_coa = (np.random.random(1)<prob_coa_t)[0]*1\n",
    "                n_ticket_1st = (np.random.random(1)<prob_1st_t)[0]*1\n",
    "                s_coa+=n_ticket_coa\n",
    "                s_1st += n_ticket_1st\n",
    "                prices_ts += [[price_1st_t,price_coa_t]]\n",
    "                rev_t = (r**(t))*(n_ticket_coa*price_coa_t + n_ticket_1st*price_1st_t)\n",
    "                rev_ts += [rev_t]\n",
    "                total_rev+=rev_t  \n",
    "\n",
    "    n_ava_1st = nseat_1st-s_1st\n",
    "    if s_coa>nseat_coa:\n",
    "        overbook_level = s_coa-nseat_coa\n",
    "        if (s_coa-nseat_coa)<=n_ava_1st:\n",
    "            cost = (s_coa-nseat_coa)*bump_1st*(r**(T))\n",
    "        else:\n",
    "            cost = (n_ava_1st*bump_1st+(s_coa-nseat_coa-n_ava_1st)*bump_out)*(r**(T))\n",
    "            kick_off=s_coa-nseat_coa-n_ava_1st\n",
    "\n",
    "    else:\n",
    "        cost=0\n",
    "        \n",
    "    overbook_cost = cost\n",
    "    \n",
    "    rev_ts += [-cost]\n",
    "    prices_ts += [[0,0]]\n",
    "    total_rev -= cost    \n",
    "    \n",
    "    return rev_ts, prices_ts, overbook_level,kick_off,overbook_cost,total_rev"
   ]
  },
  {
   "cell_type": "markdown",
   "id": "eebb8072-11a8-4d72-9294-fee7e3a9919a",
   "metadata": {},
   "source": [
    "## 1st policy overbook 20"
   ]
  },
  {
   "cell_type": "code",
   "execution_count": 34,
   "id": "e0a1bc29-4651-4ba2-8107-fbe16fbafeed",
   "metadata": {},
   "outputs": [],
   "source": [
    "#U_2ndPolicy\n",
    "#U_1stPolicy\n",
    "#U_1stPolicy9\n",
    "nseat_over = 20\n",
    "n_sim = 10000\n",
    "total_overbook_level_1stP20= []\n",
    "total_kickoff_1stP20 = []\n",
    "total_overbook_cost_1stP20 = []\n",
    "total_total_rev_1stP20 = []\n",
    "for i in range(n_sim):\n",
    "    rev_ts, prices_ts, overbook_level,kick_off,overbook_cost,total_rev = generate_model_overbook(U_1stPolicy)\n",
    "    total_kickoff_1stP20 += [kick_off]\n",
    "    total_overbook_cost_1stP20 += [overbook_cost]\n",
    "    total_total_rev_1stP20 += [total_rev]\n",
    "    total_overbook_level_1stP20 += [overbook_level]\n"
   ]
  },
  {
   "cell_type": "code",
   "execution_count": 35,
   "id": "a9a4e847-70e8-4439-8e88-4c5e8e11eab7",
   "metadata": {},
   "outputs": [
    {
     "data": {
      "text/html": [
       "<div>\n",
       "<style scoped>\n",
       "    .dataframe tbody tr th:only-of-type {\n",
       "        vertical-align: middle;\n",
       "    }\n",
       "\n",
       "    .dataframe tbody tr th {\n",
       "        vertical-align: top;\n",
       "    }\n",
       "\n",
       "    .dataframe thead th {\n",
       "        text-align: right;\n",
       "    }\n",
       "</style>\n",
       "<table border=\"1\" class=\"dataframe\">\n",
       "  <thead>\n",
       "    <tr style=\"text-align: right;\">\n",
       "      <th></th>\n",
       "      <th>vars</th>\n",
       "      <th>avg</th>\n",
       "      <th>std</th>\n",
       "    </tr>\n",
       "  </thead>\n",
       "  <tbody>\n",
       "    <tr>\n",
       "      <th>0</th>\n",
       "      <td>sum_times_kickoff</td>\n",
       "      <td>10000.000000</td>\n",
       "      <td>-9.999000e+07</td>\n",
       "    </tr>\n",
       "    <tr>\n",
       "      <th>1</th>\n",
       "      <td>sum_times_overbook</td>\n",
       "      <td>10000.000000</td>\n",
       "      <td>-9.999000e+07</td>\n",
       "    </tr>\n",
       "    <tr>\n",
       "      <th>2</th>\n",
       "      <td>avg_overbook_level_1stP20</td>\n",
       "      <td>11.669700</td>\n",
       "      <td>5.013362e+00</td>\n",
       "    </tr>\n",
       "    <tr>\n",
       "      <th>3</th>\n",
       "      <td>avg_kickoff_1stP20</td>\n",
       "      <td>10.845700</td>\n",
       "      <td>4.663828e+00</td>\n",
       "    </tr>\n",
       "    <tr>\n",
       "      <th>4</th>\n",
       "      <td>avg_overbook_cost_1stP20</td>\n",
       "      <td>3923.721864</td>\n",
       "      <td>1.680565e+03</td>\n",
       "    </tr>\n",
       "    <tr>\n",
       "      <th>5</th>\n",
       "      <td>avg_total_rev_1stP20</td>\n",
       "      <td>39950.385333</td>\n",
       "      <td>5.272270e+02</td>\n",
       "    </tr>\n",
       "  </tbody>\n",
       "</table>\n",
       "</div>"
      ],
      "text/plain": [
       "                        vars           avg           std\n",
       "0          sum_times_kickoff  10000.000000 -9.999000e+07\n",
       "1         sum_times_overbook  10000.000000 -9.999000e+07\n",
       "2  avg_overbook_level_1stP20     11.669700  5.013362e+00\n",
       "3         avg_kickoff_1stP20     10.845700  4.663828e+00\n",
       "4   avg_overbook_cost_1stP20   3923.721864  1.680565e+03\n",
       "5       avg_total_rev_1stP20  39950.385333  5.272270e+02"
      ]
     },
     "execution_count": 35,
     "metadata": {},
     "output_type": "execute_result"
    }
   ],
   "source": [
    "summary = pd.DataFrame()\n",
    "\n",
    "summary['vars'] = ['sum_times_kickoff','sum_times_overbook','avg_overbook_level_1stP20','avg_kickoff_1stP20','avg_overbook_cost_1stP20','avg_total_rev_1stP20']\n",
    "\n",
    "summary['avg'] = [  np.sum(np.array(total_overbook_level_1stP20)>0)\n",
    "                    ,np.sum(np.array(total_kickoff_1stP20)>0)\n",
    "                    ,np.mean(total_overbook_level_1stP20)\n",
    "                    ,np.mean(total_kickoff_1stP20)\n",
    "                    ,np.mean(total_overbook_cost_1stP20)\n",
    "                    ,np.mean(total_total_rev_1stP20)]\n",
    "\n",
    "summary['std'] = [  np.sum(np.array(total_overbook_level_1stP20)>0)*(1-np.sum(np.array(total_overbook_level_1stP20)>0))\n",
    "                    ,np.sum(np.array(total_kickoff_1stP20)>0)*(1-np.sum(np.array(total_kickoff_1stP20)>0))\n",
    "                    ,np.std(total_overbook_level_1stP20)\n",
    "                    ,np.std(total_kickoff_1stP20)\n",
    "                    ,np.std(total_overbook_cost_1stP20)\n",
    "                    ,np.std(total_total_rev_1stP20)]\n",
    "\n",
    "summary\n"
   ]
  },
  {
   "cell_type": "markdown",
   "id": "7168f6f6-af48-4d2d-b213-27474460630d",
   "metadata": {},
   "source": [
    "## 1st policy overbook 9"
   ]
  },
  {
   "cell_type": "code",
   "execution_count": 36,
   "id": "eb29eecd-bb25-445b-a175-c8fea4c65e55",
   "metadata": {},
   "outputs": [],
   "source": [
    "#U_2ndPolicy\n",
    "#U_1stPolicy\n",
    "#U_1stPolicy9\n",
    "nseat_over = 9\n",
    "n_sim = 10000\n",
    "total_overbook_level_1stP9= []\n",
    "total_kickoff_1stP9 = []\n",
    "total_overbook_cost_1stP9 = []\n",
    "total_total_rev_1stP9 = []\n",
    "for i in range(n_sim):\n",
    "    rev_ts, prices_ts, overbook_level,kick_off,overbook_cost,total_rev = generate_model_overbook(U_1stPolicy9)\n",
    "    total_kickoff_1stP9 += [kick_off]\n",
    "    total_overbook_cost_1stP9 += [overbook_cost]\n",
    "    total_total_rev_1stP9 += [total_rev]\n",
    "    total_overbook_level_1stP9 += [overbook_level]"
   ]
  },
  {
   "cell_type": "code",
   "execution_count": 37,
   "id": "4a469808-faf8-41d8-ae84-cac09a9d1db3",
   "metadata": {},
   "outputs": [
    {
     "data": {
      "text/html": [
       "<div>\n",
       "<style scoped>\n",
       "    .dataframe tbody tr th:only-of-type {\n",
       "        vertical-align: middle;\n",
       "    }\n",
       "\n",
       "    .dataframe tbody tr th {\n",
       "        vertical-align: top;\n",
       "    }\n",
       "\n",
       "    .dataframe thead th {\n",
       "        text-align: right;\n",
       "    }\n",
       "</style>\n",
       "<table border=\"1\" class=\"dataframe\">\n",
       "  <thead>\n",
       "    <tr style=\"text-align: right;\">\n",
       "      <th></th>\n",
       "      <th>vars</th>\n",
       "      <th>avg</th>\n",
       "      <th>std</th>\n",
       "    </tr>\n",
       "  </thead>\n",
       "  <tbody>\n",
       "    <tr>\n",
       "      <th>0</th>\n",
       "      <td>sum_times_kickoff</td>\n",
       "      <td>10000.000000</td>\n",
       "      <td>-9.999000e+07</td>\n",
       "    </tr>\n",
       "    <tr>\n",
       "      <th>1</th>\n",
       "      <td>sum_times_overbook</td>\n",
       "      <td>9999.000000</td>\n",
       "      <td>-9.997000e+07</td>\n",
       "    </tr>\n",
       "    <tr>\n",
       "      <th>2</th>\n",
       "      <td>avg_overbook_level_1stP9</td>\n",
       "      <td>8.185300</td>\n",
       "      <td>1.204643e+00</td>\n",
       "    </tr>\n",
       "    <tr>\n",
       "      <th>3</th>\n",
       "      <td>avg_kickoff_1stP9</td>\n",
       "      <td>7.799700</td>\n",
       "      <td>1.320371e+00</td>\n",
       "    </tr>\n",
       "    <tr>\n",
       "      <th>4</th>\n",
       "      <td>avg_overbook_cost_1stP9</td>\n",
       "      <td>2813.018485</td>\n",
       "      <td>4.593848e+02</td>\n",
       "    </tr>\n",
       "    <tr>\n",
       "      <th>5</th>\n",
       "      <td>avg_total_rev_1stP9</td>\n",
       "      <td>40152.223042</td>\n",
       "      <td>5.859683e+02</td>\n",
       "    </tr>\n",
       "  </tbody>\n",
       "</table>\n",
       "</div>"
      ],
      "text/plain": [
       "                       vars           avg           std\n",
       "0         sum_times_kickoff  10000.000000 -9.999000e+07\n",
       "1        sum_times_overbook   9999.000000 -9.997000e+07\n",
       "2  avg_overbook_level_1stP9      8.185300  1.204643e+00\n",
       "3         avg_kickoff_1stP9      7.799700  1.320371e+00\n",
       "4   avg_overbook_cost_1stP9   2813.018485  4.593848e+02\n",
       "5       avg_total_rev_1stP9  40152.223042  5.859683e+02"
      ]
     },
     "execution_count": 37,
     "metadata": {},
     "output_type": "execute_result"
    }
   ],
   "source": [
    "summary = pd.DataFrame()\n",
    "\n",
    "summary['vars'] = ['sum_times_kickoff','sum_times_overbook','avg_overbook_level_1stP9','avg_kickoff_1stP9','avg_overbook_cost_1stP9','avg_total_rev_1stP9']\n",
    "\n",
    "summary['avg'] = [  np.sum(np.array(total_overbook_level_1stP9)>0)\n",
    "                    ,np.sum(np.array(total_kickoff_1stP9)>0)\n",
    "                    ,np.mean(total_overbook_level_1stP9)\n",
    "                    ,np.mean(total_kickoff_1stP9)\n",
    "                    ,np.mean(total_overbook_cost_1stP9)\n",
    "                    ,np.mean(total_total_rev_1stP9)]\n",
    "\n",
    "summary['std'] = [  np.sum(np.array(total_overbook_level_1stP9)>0)*(1-np.sum(np.array(total_overbook_level_1stP9)>0))\n",
    "                    ,np.sum(np.array(total_kickoff_1stP9)>0)*(1-np.sum(np.array(total_kickoff_1stP9)>0))\n",
    "                    ,np.std(total_overbook_level_1stP9)\n",
    "                    ,np.std(total_kickoff_1stP9)\n",
    "                    ,np.std(total_overbook_cost_1stP9)\n",
    "                    ,np.std(total_total_rev_1stP9)]\n",
    "\n",
    "summary\n"
   ]
  },
  {
   "cell_type": "markdown",
   "id": "15d653b3-7c5b-4d65-a17c-7a256e06231b",
   "metadata": {},
   "source": [
    "## 2nd policy overbook 20"
   ]
  },
  {
   "cell_type": "code",
   "execution_count": 38,
   "id": "5e8ce2ea-eb4c-4fd5-b1de-76c8ce97f2e5",
   "metadata": {},
   "outputs": [],
   "source": [
    "#U_2ndPolicy\n",
    "#U_1stPolicy\n",
    "#U_1stPolicy9\n",
    "nseat_over = 20\n",
    "n_sim = 10000\n",
    "total_overbook_level_2nd= []\n",
    "total_kickoff_2nd = []\n",
    "total_overbook_cost_2nd = []\n",
    "total_total_rev_2nd = []\n",
    "for i in range(n_sim):\n",
    "    rev_ts, prices_ts, overbook_level,kick_off,overbook_cost,total_rev = generate_model_overbook(U_2ndPolicy)\n",
    "    total_kickoff_2nd += [kick_off]\n",
    "    total_overbook_cost_2nd += [overbook_cost]\n",
    "    total_total_rev_2nd += [total_rev]\n",
    "    total_overbook_level_2nd += [overbook_level]"
   ]
  },
  {
   "cell_type": "code",
   "execution_count": 39,
   "id": "e68cf52c-7047-4bcd-a69e-c829191363e1",
   "metadata": {},
   "outputs": [
    {
     "data": {
      "text/html": [
       "<div>\n",
       "<style scoped>\n",
       "    .dataframe tbody tr th:only-of-type {\n",
       "        vertical-align: middle;\n",
       "    }\n",
       "\n",
       "    .dataframe tbody tr th {\n",
       "        vertical-align: top;\n",
       "    }\n",
       "\n",
       "    .dataframe thead th {\n",
       "        text-align: right;\n",
       "    }\n",
       "</style>\n",
       "<table border=\"1\" class=\"dataframe\">\n",
       "  <thead>\n",
       "    <tr style=\"text-align: right;\">\n",
       "      <th></th>\n",
       "      <th>vars</th>\n",
       "      <th>avg</th>\n",
       "      <th>std</th>\n",
       "    </tr>\n",
       "  </thead>\n",
       "  <tbody>\n",
       "    <tr>\n",
       "      <th>0</th>\n",
       "      <td>sum_times_kickoff</td>\n",
       "      <td>10000.000000</td>\n",
       "      <td>-9.999000e+07</td>\n",
       "    </tr>\n",
       "    <tr>\n",
       "      <th>1</th>\n",
       "      <td>sum_times_overbook</td>\n",
       "      <td>10000.000000</td>\n",
       "      <td>-9.999000e+07</td>\n",
       "    </tr>\n",
       "    <tr>\n",
       "      <th>2</th>\n",
       "      <td>avg_overbook_level_2nd</td>\n",
       "      <td>8.386100</td>\n",
       "      <td>1.466297e+00</td>\n",
       "    </tr>\n",
       "    <tr>\n",
       "      <th>3</th>\n",
       "      <td>avg_kickoff_2nd</td>\n",
       "      <td>7.931600</td>\n",
       "      <td>1.306951e+00</td>\n",
       "    </tr>\n",
       "    <tr>\n",
       "      <th>4</th>\n",
       "      <td>avg_overbook_cost_2nd</td>\n",
       "      <td>2863.220638</td>\n",
       "      <td>4.648425e+02</td>\n",
       "    </tr>\n",
       "    <tr>\n",
       "      <th>5</th>\n",
       "      <td>avg_total_rev_2nd</td>\n",
       "      <td>40143.843730</td>\n",
       "      <td>5.900637e+02</td>\n",
       "    </tr>\n",
       "  </tbody>\n",
       "</table>\n",
       "</div>"
      ],
      "text/plain": [
       "                     vars           avg           std\n",
       "0       sum_times_kickoff  10000.000000 -9.999000e+07\n",
       "1      sum_times_overbook  10000.000000 -9.999000e+07\n",
       "2  avg_overbook_level_2nd      8.386100  1.466297e+00\n",
       "3         avg_kickoff_2nd      7.931600  1.306951e+00\n",
       "4   avg_overbook_cost_2nd   2863.220638  4.648425e+02\n",
       "5       avg_total_rev_2nd  40143.843730  5.900637e+02"
      ]
     },
     "execution_count": 39,
     "metadata": {},
     "output_type": "execute_result"
    }
   ],
   "source": [
    "summary = pd.DataFrame()\n",
    "\n",
    "summary['vars'] = ['sum_times_kickoff','sum_times_overbook','avg_overbook_level_2nd','avg_kickoff_2nd','avg_overbook_cost_2nd','avg_total_rev_2nd']\n",
    "\n",
    "summary['avg'] = [  np.sum(np.array(total_overbook_level_2nd)>0)\n",
    "                    ,np.sum(np.array(total_kickoff_2nd)>0)\n",
    "                    ,np.mean(total_overbook_level_2nd)\n",
    "                    ,np.mean(total_kickoff_2nd)\n",
    "                    ,np.mean(total_overbook_cost_2nd)\n",
    "                    ,np.mean(total_total_rev_2nd)]\n",
    "\n",
    "summary['std'] = [  np.sum(np.array(total_overbook_level_2nd)>0)*(1-np.sum(np.array(total_overbook_level_2nd)>0))\n",
    "                    ,np.sum(np.array(total_kickoff_2nd)>0)*(1-np.sum(np.array(total_kickoff_2nd)>0))\n",
    "                    ,np.std(total_overbook_level_2nd)\n",
    "                    ,np.std(total_kickoff_2nd)\n",
    "                    ,np.std(total_overbook_cost_2nd)\n",
    "                    ,np.std(total_total_rev_2nd)]\n",
    "\n",
    "summary\n"
   ]
  },
  {
   "cell_type": "markdown",
   "id": "3ce03c14-5ebe-42c8-9c94-adb60b03a163",
   "metadata": {},
   "source": [
    "## Histogram comparisons"
   ]
  },
  {
   "cell_type": "code",
   "execution_count": 40,
   "id": "84b4e5eb-df27-478a-89e1-428de206b07f",
   "metadata": {},
   "outputs": [
    {
     "data": {
      "text/plain": [
       "<matplotlib.legend.Legend at 0x16844c520>"
      ]
     },
     "execution_count": 40,
     "metadata": {},
     "output_type": "execute_result"
    },
    {
     "data": {
      "image/png": "[encoded data removed]",
      "text/plain": [
       "<Figure size 640x480 with 1 Axes>"
      ]
     },
     "metadata": {},
     "output_type": "display_data"
    }
   ],
   "source": [
    "plt.hist(total_total_rev_2nd, bins=30, alpha=0.4, label='2nd opt overbook 20', color='green')\n",
    "plt.hist(total_total_rev_1stP9, bins=30, alpha=0.4, label='1st opt overbook 9', color='blue')\n",
    "plt.hist(total_total_rev_1stP20, bins=30, alpha=0.4, label='1st opt overbook 20',color='orange')\n",
    "\n",
    "plt.axvline(x=np.mean(total_total_rev_2nd), color='green', linestyle='--')\n",
    "plt.axvline(x=np.mean(total_total_rev_1stP9), color='blue', linestyle='--')\n",
    "plt.axvline(x=np.mean(total_total_rev_1stP20), color='orange', linestyle='--')\n",
    "\n",
    "plt.xlabel('Value')\n",
    "plt.ylabel('Frequency')\n",
    "plt.title('Histogram of Comparison of Total Revenue')\n",
    "plt.legend()"
   ]
  },
  {
   "cell_type": "code",
   "execution_count": 41,
   "id": "a25b83a9-9ebb-4c93-ab76-600b94a0dcf5",
   "metadata": {},
   "outputs": [
    {
     "data": {
      "text/plain": [
       "<matplotlib.legend.Legend at 0x16848ba30>"
      ]
     },
     "execution_count": 41,
     "metadata": {},
     "output_type": "execute_result"
    },
    {
     "data": {
      "image/png": "[encoded data removed]",
      "text/plain": [
       "<Figure size 640x480 with 1 Axes>"
      ]
     },
     "metadata": {},
     "output_type": "display_data"
    }
   ],
   "source": [
    "plt.hist(total_overbook_cost_2nd, bins=20, alpha=0.4, label='2nd opt overbook 20', color='green')\n",
    "plt.hist(total_overbook_cost_1stP9, bins=20, alpha=0.4, label='1st opt overbook 9', color='blue')\n",
    "plt.hist(total_overbook_cost_1stP20, bins=20, alpha=0.4, label='1st opt overbook 20',color='orange')\n",
    "\n",
    "plt.axvline(x=np.mean(total_overbook_cost_2nd), color='green', linestyle='--')\n",
    "plt.axvline(x=np.mean(total_overbook_cost_1stP9), color='blue', linestyle='--')\n",
    "plt.axvline(x=np.mean(total_overbook_cost_1stP20), color='orange', linestyle='--')\n",
    "\n",
    "plt.xlabel('Value')\n",
    "plt.ylabel('Frequency')\n",
    "plt.title('Histogram of Comparison Overbook levels')\n",
    "plt.legend()"
   ]
  },
  {
   "cell_type": "code",
   "execution_count": 42,
   "id": "24073757-781a-4703-a478-eb905a6e2124",
   "metadata": {},
   "outputs": [
    {
     "data": {
      "text/plain": [
       "<matplotlib.legend.Legend at 0x16800dc30>"
      ]
     },
     "execution_count": 42,
     "metadata": {},
     "output_type": "execute_result"
    },
    {
     "data": {
      "image/png": "[encoded data removed]",
      "text/plain": [
       "<Figure size 640x480 with 1 Axes>"
      ]
     },
     "metadata": {},
     "output_type": "display_data"
    }
   ],
   "source": [
    "plt.hist(total_kickoff_2nd, bins=20, alpha=0.4, label='2nd opt overbook 20', color='green')\n",
    "plt.hist(total_kickoff_1stP9, bins=20, alpha=0.4, label='1st opt overbook 9', color='blue')\n",
    "plt.hist(total_kickoff_1stP20, bins=20, alpha=0.4, label='1st opt overbook 20',color='orange')\n",
    "\n",
    "plt.axvline(x=np.mean(total_kickoff_2nd), color='green', linestyle='--')\n",
    "plt.axvline(x=np.mean(total_kickoff_1stP9), color='blue', linestyle='--')\n",
    "plt.axvline(x=np.mean(total_kickoff_1stP20), color='orange', linestyle='--')\n",
    "\n",
    "plt.xlabel('Value')\n",
    "plt.ylabel('Frequency')\n",
    "plt.title('Histogram of Comparison of Kick Off levels')\n",
    "plt.legend()"
   ]
  },
  {
   "cell_type": "code",
   "execution_count": null,
   "id": "81d6012b-2db4-4ba9-b9cd-2a403949dfb6",
   "metadata": {},
   "outputs": [],
   "source": []
  }
 ],
 "metadata": {
  "kernelspec": {
   "display_name": "Python 3 (ipykernel)",
   "language": "python",
   "name": "python3"
  },
  "language_info": {
   "codemirror_mode": {
    "name": "ipython",
    "version": 3
   },
   "file_extension": ".py",
   "mimetype": "text/x-python",
   "name": "python",
   "nbconvert_exporter": "python",
   "pygments_lexer": "ipython3",
   "version": "3.11.5"
  }
 },
 "nbformat": 4,
 "nbformat_minor": 5
}
